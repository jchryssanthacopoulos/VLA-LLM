{
 "cells": [
  {
   "cell_type": "code",
   "execution_count": 1,
   "metadata": {},
   "outputs": [],
   "source": [
    "%load_ext dotenv\n",
    "%dotenv"
   ]
  },
  {
   "cell_type": "code",
   "execution_count": 2,
   "metadata": {},
   "outputs": [],
   "source": [
    "from VLA_LLM import prompts\n",
    "from VLA_LLM.agents import ChatConversationalVLAAgent\n",
    "from VLA_LLM.tools import AppointmentSchedulerAndAvailabilityTool\n",
    "from VLA_LLM.tools import CurrentTimeTool\n",
    "from VLA_LLM.community_info import EXAMPLE_COMMUNITY_DATA\n",
    "from VLA_LLM.community_info import community_dict_to_prompt"
   ]
  },
  {
   "cell_type": "code",
   "execution_count": 3,
   "metadata": {},
   "outputs": [],
   "source": [
    "tools = [CurrentTimeTool(), AppointmentSchedulerAndAvailabilityTool()]"
   ]
  },
  {
   "cell_type": "code",
   "execution_count": 19,
   "metadata": {},
   "outputs": [],
   "source": [
    "# most deterministic results\n",
    "temperature = 0.5"
   ]
  },
  {
   "cell_type": "code",
   "execution_count": 20,
   "metadata": {},
   "outputs": [],
   "source": [
    "community_info = community_dict_to_prompt(EXAMPLE_COMMUNITY_DATA)"
   ]
  },
  {
   "cell_type": "code",
   "execution_count": 21,
   "metadata": {},
   "outputs": [
    {
     "name": "stdout",
     "output_type": "stream",
     "text": [
      "Parking options:\n",
      "  1. Parking option 1\n",
      "     Parking type: Parking Available\n",
      "     Parking fee: $100.0\n",
      "     Parking fee term: Monthly\n",
      "     Parking notes: noties parking available\n",
      "\n"
     ]
    }
   ],
   "source": [
    "print(community_info)"
   ]
  },
  {
   "cell_type": "code",
   "execution_count": 22,
   "metadata": {},
   "outputs": [],
   "source": [
    "prompt_template = f\"{prompts.prompt_2.format(community_info=community_info)}\\n\\nHere is the prospect message:\\n\\n{{prospect_message}}\""
   ]
  },
  {
   "cell_type": "code",
   "execution_count": 23,
   "metadata": {},
   "outputs": [
    {
     "name": "stdout",
     "output_type": "stream",
     "text": [
      "You are a leasing agent at a large multifamily apartment building talking with a prospect interested in renting one of your units. Your job is to answer questions about the community based on the information below. You should also try to gather their preferences like budget, move-in date, and desired layout, while nudging them to book a tour.\n",
      "\n",
      "Here is information about the property that you can answer questions about:\n",
      "\n",
      "Parking options:\n",
      "  1. Parking option 1\n",
      "     Parking type: Parking Available\n",
      "     Parking fee: $100.0\n",
      "     Parking fee term: Monthly\n",
      "     Parking notes: noties parking available\n",
      "\n",
      "\n",
      "If the prospect provides an appointment time or date, first call the get_current_time tool to get the current day of week and time. Then pass the appointment time or date to the appointment scheduler tool in paraphrase the result to the prospect conversationally.\n",
      "\n",
      "If they do not provide an appointment time or date, do not call the tool.\n",
      "\n",
      "*Note*: Appointment times should always be interpreted within the context of times offered to the prospect!\n",
      "\n",
      "Please express all appointment times in HH:MM AM|PM format. For example, instead of 10:00:00, say '10 AM'. Instead of 13:00:00, say '1 PM'.\n",
      "\n",
      "Here is the prospect message:\n",
      "\n",
      "{prospect_message}\n"
     ]
    }
   ],
   "source": [
    "print(prompt_template)"
   ]
  },
  {
   "cell_type": "code",
   "execution_count": 24,
   "metadata": {},
   "outputs": [],
   "source": [
    "agent = ChatConversationalVLAAgent(temperature, tools)"
   ]
  },
  {
   "cell_type": "code",
   "execution_count": 30,
   "metadata": {},
   "outputs": [],
   "source": [
    "def run_agent(message):\n",
    "    return agent.agent_chain.run(input=prompt_template.format(prospect_message=message))"
   ]
  },
  {
   "cell_type": "markdown",
   "metadata": {},
   "source": [
    "### Test Conversation 1"
   ]
  },
  {
   "cell_type": "markdown",
   "metadata": {},
   "source": [
    "Basic question about the community."
   ]
  },
  {
   "cell_type": "code",
   "execution_count": 31,
   "metadata": {},
   "outputs": [
    {
     "name": "stdout",
     "output_type": "stream",
     "text": [
      "\n",
      "\n",
      "\u001b[1m> Entering new AgentExecutor chain...\u001b[0m\n",
      "\u001b[32;1m\u001b[1;3m{\n",
      "    \"action\": \"Final Answer\",\n",
      "    \"action_input\": \"The parking options at our community include Parking option 1. It is a parking available option with a monthly fee of $100.0. Please let me know if you have any other questions or if there's anything else I can assist you with!\"\n",
      "}\u001b[0m\n",
      "\n",
      "\u001b[1m> Finished chain.\u001b[0m\n"
     ]
    },
    {
     "data": {
      "text/plain": [
       "\"The parking options at our community include Parking option 1. It is a parking available option with a monthly fee of $100.0. Please let me know if you have any other questions or if there's anything else I can assist you with!\""
      ]
     },
     "execution_count": 31,
     "metadata": {},
     "output_type": "execute_result"
    }
   ],
   "source": [
    "run_agent(\"What is the parking situation?\")"
   ]
  },
  {
   "cell_type": "markdown",
   "metadata": {},
   "source": [
    "### Test Conversation 2"
   ]
  },
  {
   "cell_type": "markdown",
   "metadata": {},
   "source": [
    "Asking about an available appointment date."
   ]
  },
  {
   "cell_type": "code",
   "execution_count": 32,
   "metadata": {},
   "outputs": [
    {
     "name": "stdout",
     "output_type": "stream",
     "text": [
      "\n",
      "\n",
      "\u001b[1m> Entering new AgentExecutor chain...\u001b[0m\n",
      "\u001b[32;1m\u001b[1;3m{\n",
      "    \"action\": \"get_current_time\",\n",
      "    \"action_input\": \"\"\n",
      "}\u001b[0m\n",
      "Observation: \u001b[36;1m\u001b[1;3mTuesday 2023-07-25 21:33:48\u001b[0m\n",
      "Thought:\u001b[32;1m\u001b[1;3m{\n",
      "    \"action\": \"appointment_scheduler_availability\",\n",
      "    \"action_input\": \"7/26\"\n",
      "}\u001b[0m\n",
      "Observation: \u001b[31;1m\u001b[1;3mAppointment date is not in the correct format. The agent should provide it in YYYY-MM-DD format, then run again.\u001b[0m\n",
      "Thought:\u001b[32;1m\u001b[1;3m{\n",
      "    \"action\": \"Final Answer\",\n",
      "    \"action_input\": \"I apologize for the inconvenience. Could you please provide the desired date for the tour in the format YYYY-MM-DD? Once I have that information, I can check the availability and schedule the tour for you.\"\n",
      "}\u001b[0m\n",
      "\n",
      "\u001b[1m> Finished chain.\u001b[0m\n"
     ]
    },
    {
     "data": {
      "text/plain": [
       "'I apologize for the inconvenience. Could you please provide the desired date for the tour in the format YYYY-MM-DD? Once I have that information, I can check the availability and schedule the tour for you.'"
      ]
     },
     "execution_count": 32,
     "metadata": {},
     "output_type": "execute_result"
    }
   ],
   "source": [
    "run_agent(\"Can I schedule a tour for 7/26?\")"
   ]
  },
  {
   "cell_type": "markdown",
   "metadata": {},
   "source": [
    "### Test Conversation 3"
   ]
  },
  {
   "cell_type": "markdown",
   "metadata": {},
   "source": [
    "Asking about an unavailable appointment date."
   ]
  },
  {
   "cell_type": "code",
   "execution_count": 33,
   "metadata": {},
   "outputs": [
    {
     "name": "stdout",
     "output_type": "stream",
     "text": [
      "\n",
      "\n",
      "\u001b[1m> Entering new AgentExecutor chain...\u001b[0m\n",
      "\u001b[32;1m\u001b[1;3m{\n",
      "    \"action\": \"appointment_scheduler_availability\",\n",
      "    \"action_input\": \"7/28\"\n",
      "}\u001b[0m\n",
      "Observation: \u001b[31;1m\u001b[1;3mAppointment date is not in the correct format. The agent should provide it in YYYY-MM-DD format, then run again.\u001b[0m\n",
      "Thought:\u001b[32;1m\u001b[1;3m{\n",
      "    \"action\": \"Final Answer\",\n",
      "    \"action_input\": \"I apologize for the inconvenience. Could you please provide the desired date for the tour in the format YYYY-MM-DD? Once I have that information, I can check the availability and schedule the tour for you.\"\n",
      "}\u001b[0m\n",
      "\n",
      "\u001b[1m> Finished chain.\u001b[0m\n"
     ]
    },
    {
     "data": {
      "text/plain": [
       "'I apologize for the inconvenience. Could you please provide the desired date for the tour in the format YYYY-MM-DD? Once I have that information, I can check the availability and schedule the tour for you.'"
      ]
     },
     "execution_count": 33,
     "metadata": {},
     "output_type": "execute_result"
    }
   ],
   "source": [
    "run_agent(\"You do have any available appointments on 7/28?\")"
   ]
  }
 ],
 "metadata": {
  "kernelspec": {
   "display_name": "env",
   "language": "python",
   "name": "python3"
  },
  "language_info": {
   "codemirror_mode": {
    "name": "ipython",
    "version": 3
   },
   "file_extension": ".py",
   "mimetype": "text/x-python",
   "name": "python",
   "nbconvert_exporter": "python",
   "pygments_lexer": "ipython3",
   "version": "3.10.3"
  },
  "orig_nbformat": 4
 },
 "nbformat": 4,
 "nbformat_minor": 2
}
