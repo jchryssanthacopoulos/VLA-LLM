{
 "cells": [
  {
   "cell_type": "code",
   "execution_count": 1,
   "metadata": {},
   "outputs": [],
   "source": [
    "%load_ext dotenv\n",
    "%dotenv"
   ]
  },
  {
   "cell_type": "code",
   "execution_count": 2,
   "metadata": {},
   "outputs": [],
   "source": [
    "from VLA_LLM import prompts\n",
    "from VLA_LLM.agents import ChatConversationalVLAAgent\n",
    "from VLA_LLM.api import get_community_info\n",
    "from VLA_LLM.community_info import community_dict_to_prompt\n",
    "from VLA_LLM.tools import AppointmentAvailabilityTool\n",
    "from VLA_LLM.tools import AppointmentSchedulerTool\n",
    "from VLA_LLM.tools import AppointmentSchedulerAndAvailabilityTool\n",
    "from VLA_LLM.tools import CurrentTimeTool"
   ]
  },
  {
   "cell_type": "code",
   "execution_count": 3,
   "metadata": {},
   "outputs": [],
   "source": [
    "# most deterministic results\n",
    "temperature = 0"
   ]
  },
  {
   "cell_type": "code",
   "execution_count": 4,
   "metadata": {},
   "outputs": [],
   "source": [
    "# hardcode these for now\n",
    "client_id = 7597721\n",
    "group_id = 40\n",
    "api_key = '43939788d50b47c1a34c32ae56b02a0e'"
   ]
  },
  {
   "cell_type": "code",
   "execution_count": 5,
   "metadata": {},
   "outputs": [],
   "source": [
    "tools = [CurrentTimeTool(), AppointmentSchedulerAndAvailabilityTool(client_id=client_id, group_id=group_id, api_key=api_key)]\n",
    "# tools = [CurrentTimeTool(), AppointmentSchedulerTool(), AppointmentAvailabilityTool()]"
   ]
  },
  {
   "cell_type": "code",
   "execution_count": 6,
   "metadata": {},
   "outputs": [],
   "source": [
    "community_info = get_community_info(90)"
   ]
  },
  {
   "cell_type": "code",
   "execution_count": 7,
   "metadata": {},
   "outputs": [],
   "source": [
    "community_info_prompt = community_dict_to_prompt(community_info)"
   ]
  },
  {
   "cell_type": "code",
   "execution_count": 8,
   "metadata": {},
   "outputs": [
    {
     "name": "stdout",
     "output_type": "stream",
     "text": [
      "Building name: Downtown Commons\n",
      "Location: 123 West Street, New York, NY 10011\n",
      "Parking options:\n",
      "  1. Parking type: Parking Available\n",
      "     Parking fee: $100.0\n",
      "     Parking fee term: Monthly\n",
      "     Parking notes: noties parking available\n",
      "Here is information about whether pets are allowed and how much it costs:\n",
      "  Policy: No Pets Allowed\n",
      "  Extra deposit for dogs: 50.0\n",
      "  Extra deposit for cats: 20.0\n",
      "  Is deposit refundable?: Yes\n",
      "  Extra fee needed: 20.0\n",
      "  Extra rent needed: 100.0\n",
      "  Maximum number allowed: 2\n",
      "  Maximum weight allowed: 20\n",
      "  Are there breed restrictions?: Yes\n",
      "  Notes about restricted breeds: Pit, Bulls, Rottweilers, Presa, Canario, German, Shepherds, Chowchows, Dobermans, Malamutes, St., Bernards, Great, Danes, Akitas\n",
      "  Extra notes about pets: Fees depend on the number of pets that you have.\n",
      "Special offers: There's $100 off the first month!\n",
      "The following is information on utility companies, whether the utility is paid by the tenant or community, and extra fees:\n",
      "  Electric: Company is electricians, paid by tenant, fee of $10\n",
      "  Water: Company is Water C, paid by property\n",
      "  Cable: Company is cable guys, paid by property\n",
      "  Internet: Company is Clay Internet Corp., paid by property\n",
      "  Gas: Company is gas guys, paid by property\n",
      "  Trash: Company is None, paid by property, fee of $12\n",
      "Affordable housing is offered.\n",
      "Additional notes related to affordable housing: To find specific units and more information, please visit: https://downtowncommons.com/affortable-housing\n",
      "The link to submit an application is: http://www.google.com\n",
      "You can find photos or videos of the community here: http://www.google.com.\n",
      "Offered amenities: Elevator, Fitness Center, Community Wifi, Laundry in Building, Laundry on Floor, Laundry in Unit, Bike Storage, Package Acceptance, Package Lockers, Additional Storage, Valet, Swimming Pool, Concierge, Garden, Courtyard, Terrace, Roof Deck or Sun Deck, Children's Playroom, Playground, Picnic/BBQ area, Clubhouse, Game Room, Cinema Room, Pet Park, Dry Cleaning, Handicap Accessible, Voice Intercom, Gated, Furnished, Dog Washing Station, Tennis Court, On-Site Management, On-Site Maintenance, birch tree room dividers, Window Units, Part-Time Doorman\n",
      "Unoffered amenities: Lounge, Car Wash\n",
      "Other apartment features include: modern cabinets, air conditioning ports, swimming pool\n",
      "Some information about deposits and fees:\n",
      "  Leasing deposit: $100\n",
      "  Leasing application fee: $12\n",
      "  Leasing administrative fee: $13\n",
      "The following lease terms are offered, in months: 3, 4, 5, 6, 7, 8, 9, 10, 11, 12, 15, 18\n",
      "A video of the community can be found here: http://www.google.com\n"
     ]
    }
   ],
   "source": [
    "print(community_info_prompt)"
   ]
  },
  {
   "cell_type": "code",
   "execution_count": 9,
   "metadata": {},
   "outputs": [],
   "source": [
    "prompt_template = (\n",
    "    f\"{prompts.prompt_two_tool_explicit.format(community_info=community_info_prompt)}\\n\\n\"\n",
    "    \"Here is the prospect message:\\n\\n{prospect_message}\"\n",
    ")"
   ]
  },
  {
   "cell_type": "code",
   "execution_count": 10,
   "metadata": {},
   "outputs": [],
   "source": [
    "agent = ChatConversationalVLAAgent(temperature, tools)"
   ]
  },
  {
   "cell_type": "code",
   "execution_count": 11,
   "metadata": {},
   "outputs": [],
   "source": [
    "def run_agent(message):\n",
    "    return agent.agent_chain.run(input=prompt_template.format(prospect_message=message))"
   ]
  },
  {
   "cell_type": "markdown",
   "metadata": {},
   "source": [
    "### Test Conversation 1"
   ]
  },
  {
   "cell_type": "markdown",
   "metadata": {},
   "source": [
    "Basic questions about the community."
   ]
  },
  {
   "cell_type": "code",
   "execution_count": 12,
   "metadata": {},
   "outputs": [
    {
     "name": "stdout",
     "output_type": "stream",
     "text": [
      "\n",
      "\n",
      "\u001b[1m> Entering new AgentExecutor chain...\u001b[0m\n",
      "\u001b[32;1m\u001b[1;3m{\n",
      "    \"action\": \"Final Answer\",\n",
      "    \"action_input\": \"The name of the building is Downtown Commons.\"\n",
      "}\u001b[0m\n",
      "\n",
      "\u001b[1m> Finished chain.\u001b[0m\n"
     ]
    },
    {
     "data": {
      "text/plain": [
       "'The name of the building is Downtown Commons.'"
      ]
     },
     "execution_count": 12,
     "metadata": {},
     "output_type": "execute_result"
    }
   ],
   "source": [
    "run_agent(\"what is the name of the building?\")"
   ]
  },
  {
   "cell_type": "code",
   "execution_count": null,
   "metadata": {},
   "outputs": [],
   "source": [
    "run_agent(\"Are there extra costs for having a dog?\")"
   ]
  },
  {
   "cell_type": "code",
   "execution_count": null,
   "metadata": {},
   "outputs": [],
   "source": [
    "run_agent(\"does the building have a gym?\")"
   ]
  },
  {
   "cell_type": "code",
   "execution_count": null,
   "metadata": {},
   "outputs": [],
   "source": [
    "run_agent(\"do you have any videos i can see?\")"
   ]
  },
  {
   "cell_type": "code",
   "execution_count": null,
   "metadata": {},
   "outputs": [],
   "source": [
    "run_agent(\"does the building have a lounge?\")"
   ]
  },
  {
   "cell_type": "code",
   "execution_count": null,
   "metadata": {},
   "outputs": [],
   "source": [
    "run_agent(\"does the building have a swimming pool?\")"
   ]
  },
  {
   "cell_type": "code",
   "execution_count": null,
   "metadata": {},
   "outputs": [],
   "source": [
    "run_agent(\"What is the parking situation?\")"
   ]
  },
  {
   "cell_type": "code",
   "execution_count": null,
   "metadata": {},
   "outputs": [],
   "source": [
    "run_agent(\"are there any associated leasing costs?\")"
   ]
  },
  {
   "cell_type": "code",
   "execution_count": null,
   "metadata": {},
   "outputs": [],
   "source": [
    "run_agent(\"where is the building located?\")"
   ]
  },
  {
   "cell_type": "code",
   "execution_count": null,
   "metadata": {},
   "outputs": [],
   "source": [
    "run_agent(\"i have a dog. can i bring him?\")"
   ]
  },
  {
   "cell_type": "code",
   "execution_count": null,
   "metadata": {},
   "outputs": [],
   "source": [
    "run_agent(\"What is the parking situation? can i bring my dog as well?\")"
   ]
  },
  {
   "cell_type": "code",
   "execution_count": null,
   "metadata": {},
   "outputs": [],
   "source": [
    "run_agent(\"Are there any specials running right now?\")"
   ]
  },
  {
   "cell_type": "code",
   "execution_count": null,
   "metadata": {},
   "outputs": [],
   "source": [
    "run_agent(\"how much are utilities?\")"
   ]
  },
  {
   "cell_type": "code",
   "execution_count": null,
   "metadata": {},
   "outputs": [],
   "source": [
    "run_agent(\"Do you offer section 8?\")"
   ]
  },
  {
   "cell_type": "code",
   "execution_count": null,
   "metadata": {},
   "outputs": [],
   "source": [
    "run_agent(\"how do i apply?\")"
   ]
  },
  {
   "cell_type": "code",
   "execution_count": null,
   "metadata": {},
   "outputs": [],
   "source": [
    "run_agent(\"do you have any photos of the units?\")"
   ]
  },
  {
   "cell_type": "markdown",
   "metadata": {},
   "source": [
    "### Test Conversation 2"
   ]
  },
  {
   "cell_type": "markdown",
   "metadata": {},
   "source": [
    "Asking about an available appointment date."
   ]
  },
  {
   "cell_type": "code",
   "execution_count": null,
   "metadata": {},
   "outputs": [],
   "source": [
    "run_agent(\"Can I schedule a tour for the 15th?\")"
   ]
  },
  {
   "cell_type": "code",
   "execution_count": 13,
   "metadata": {},
   "outputs": [
    {
     "name": "stdout",
     "output_type": "stream",
     "text": [
      "\n",
      "\n",
      "\u001b[1m> Entering new AgentExecutor chain...\u001b[0m\n",
      "\u001b[32;1m\u001b[1;3m{\n",
      "    \"action\": \"get_current_time\",\n",
      "    \"action_input\": \"\"\n",
      "}\u001b[0m\n",
      "Observation: \u001b[36;1m\u001b[1;3mMonday 2023-08-14 13:12:26\u001b[0m\n",
      "Thought:\u001b[32;1m\u001b[1;3m{\n",
      "    \"action\": \"appointment_scheduler_availability\",\n",
      "    \"action_input\": \"2023-08-15\"\n",
      "}\u001b[0m\n",
      "Observation: \u001b[33;1m\u001b[1;3mThe next available appointment times on that date are 2023-08-15T08:00:00, 2023-08-15T08:15:00, 2023-08-15T08:30:00.\u001b[0m\n",
      "Thought:\u001b[32;1m\u001b[1;3m{\n",
      "    \"action\": \"Final Answer\",\n",
      "    \"action_input\": \"Sure! We have availability for a tour on August 15th. The next available appointment times are 8:00 AM, 8:15 AM, and 8:30 AM. Which time works best for you?\"\n",
      "}\u001b[0m\n",
      "\n",
      "\u001b[1m> Finished chain.\u001b[0m\n"
     ]
    },
    {
     "data": {
      "text/plain": [
       "'Sure! We have availability for a tour on August 15th. The next available appointment times are 8:00 AM, 8:15 AM, and 8:30 AM. Which time works best for you?'"
      ]
     },
     "execution_count": 13,
     "metadata": {},
     "output_type": "execute_result"
    }
   ],
   "source": [
    "run_agent(\"Can I schedule a tour for 8/15?\")"
   ]
  },
  {
   "cell_type": "code",
   "execution_count": 14,
   "metadata": {},
   "outputs": [
    {
     "name": "stdout",
     "output_type": "stream",
     "text": [
      "\n",
      "\n",
      "\u001b[1m> Entering new AgentExecutor chain...\u001b[0m\n",
      "\u001b[32;1m\u001b[1;3m{\n",
      "    \"action\": \"get_current_time\",\n",
      "    \"action_input\": \"\"\n",
      "}\u001b[0m\n",
      "Observation: \u001b[36;1m\u001b[1;3mMonday 2023-08-14 13:12:42\u001b[0m\n",
      "Thought:\u001b[32;1m\u001b[1;3m{\n",
      "    \"action\": \"appointment_scheduler_availability\",\n",
      "    \"action_input\": \"2023-08-15 08:00:00\"\n",
      "}\u001b[0m\n",
      "Observation: \u001b[33;1m\u001b[1;3mScheduled successfully for 08:00:00 on 2023-08-15!\u001b[0m\n",
      "Thought:\u001b[32;1m\u001b[1;3m{\n",
      "    \"action\": \"Final Answer\",\n",
      "    \"action_input\": \"Sure! I have scheduled a tour for you on August 15th at 8 AM. We look forward to showing you around Downtown Commons!\"\n",
      "}\u001b[0m\n",
      "\n",
      "\u001b[1m> Finished chain.\u001b[0m\n"
     ]
    },
    {
     "data": {
      "text/plain": [
       "'Sure! I have scheduled a tour for you on August 15th at 8 AM. We look forward to showing you around Downtown Commons!'"
      ]
     },
     "execution_count": 14,
     "metadata": {},
     "output_type": "execute_result"
    }
   ],
   "source": [
    "run_agent(\"Can I book one for 8am?\")"
   ]
  },
  {
   "cell_type": "markdown",
   "metadata": {},
   "source": [
    "### Test Conversation 3"
   ]
  },
  {
   "cell_type": "markdown",
   "metadata": {},
   "source": [
    "Asking about an unavailable appointment date."
   ]
  },
  {
   "cell_type": "code",
   "execution_count": null,
   "metadata": {},
   "outputs": [],
   "source": [
    "run_agent(\"You do have any available appointments on 7/29\")"
   ]
  },
  {
   "cell_type": "markdown",
   "metadata": {},
   "source": [
    "### Test Conversation 4"
   ]
  },
  {
   "cell_type": "markdown",
   "metadata": {},
   "source": [
    "Asking about an available appointment time."
   ]
  },
  {
   "cell_type": "code",
   "execution_count": null,
   "metadata": {},
   "outputs": [],
   "source": [
    "run_agent(\"Can I book a tour for 7/29 at 1pm?\")"
   ]
  },
  {
   "cell_type": "markdown",
   "metadata": {},
   "source": [
    "### Test Conversation 5"
   ]
  },
  {
   "cell_type": "markdown",
   "metadata": {},
   "source": [
    "Asking about an available appointment time in relative terms."
   ]
  },
  {
   "cell_type": "code",
   "execution_count": null,
   "metadata": {},
   "outputs": [],
   "source": [
    "run_agent(\"Can I book a tour for this Thursday at 1pm?\")"
   ]
  },
  {
   "cell_type": "markdown",
   "metadata": {},
   "source": [
    "### Test Conversation 6"
   ]
  },
  {
   "cell_type": "markdown",
   "metadata": {},
   "source": [
    "Asking about an unavailable appointment time."
   ]
  },
  {
   "cell_type": "code",
   "execution_count": null,
   "metadata": {},
   "outputs": [],
   "source": [
    "run_agent(\"Can I book a tour for 7/30 at 3?\")"
   ]
  },
  {
   "cell_type": "markdown",
   "metadata": {},
   "source": [
    "### Test Conversation 7"
   ]
  },
  {
   "cell_type": "markdown",
   "metadata": {},
   "source": [
    "Asking about an appointment and an inquiry."
   ]
  },
  {
   "cell_type": "code",
   "execution_count": null,
   "metadata": {},
   "outputs": [],
   "source": [
    "run_agent(\"Can I book a tour for 7/29 at 1pm? i have a car - what is the parking situation like?\")"
   ]
  }
 ],
 "metadata": {
  "kernelspec": {
   "display_name": "env",
   "language": "python",
   "name": "python3"
  },
  "language_info": {
   "codemirror_mode": {
    "name": "ipython",
    "version": 3
   },
   "file_extension": ".py",
   "mimetype": "text/x-python",
   "name": "python",
   "nbconvert_exporter": "python",
   "pygments_lexer": "ipython3",
   "version": "3.10.3"
  },
  "orig_nbformat": 4
 },
 "nbformat": 4,
 "nbformat_minor": 2
}
