{
 "cells": [
  {
   "cell_type": "code",
   "execution_count": 1,
   "metadata": {},
   "outputs": [],
   "source": [
    "%load_ext dotenv\n",
    "%dotenv"
   ]
  },
  {
   "cell_type": "code",
   "execution_count": 2,
   "metadata": {},
   "outputs": [],
   "source": [
    "from VLA_LLM import prompts\n",
    "from VLA_LLM.agents import ZeroShotVLAAgent\n",
    "from VLA_LLM.tools import AppointmentSchedulerAndAvailabilityTool\n",
    "from VLA_LLM.tools import CurrentTimeTool\n",
    "from VLA_LLM.community_info import EXAMPLE_COMMUNITY_DATA\n",
    "from VLA_LLM.community_info import community_dict_to_prompt"
   ]
  },
  {
   "cell_type": "code",
   "execution_count": 3,
   "metadata": {},
   "outputs": [],
   "source": [
    "tools = [CurrentTimeTool(), AppointmentSchedulerAndAvailabilityTool()]"
   ]
  },
  {
   "cell_type": "code",
   "execution_count": 4,
   "metadata": {},
   "outputs": [],
   "source": [
    "# most deterministic results\n",
    "temperature = 0"
   ]
  },
  {
   "cell_type": "code",
   "execution_count": 5,
   "metadata": {},
   "outputs": [],
   "source": [
    "community_info = community_dict_to_prompt(EXAMPLE_COMMUNITY_DATA)"
   ]
  },
  {
   "cell_type": "code",
   "execution_count": 6,
   "metadata": {},
   "outputs": [
    {
     "name": "stdout",
     "output_type": "stream",
     "text": [
      "Parking options:\n",
      "  1. Parking option 1\n",
      "     Parking type: Parking Available\n",
      "     Parking fee: $100.0\n",
      "     Parking fee term: Monthly\n",
      "     Parking notes: noties parking available\n",
      "\n",
      "Pet policy: Pets Allowed. Extra fee for pets: 50.0\n"
     ]
    }
   ],
   "source": [
    "print(community_info)"
   ]
  },
  {
   "cell_type": "code",
   "execution_count": 7,
   "metadata": {},
   "outputs": [],
   "source": [
    "prefix = prompts.prompt_1.format(community_info=community_info)"
   ]
  },
  {
   "cell_type": "code",
   "execution_count": 8,
   "metadata": {},
   "outputs": [],
   "source": [
    "agent = ZeroShotVLAAgent(temperature, prefix, tools)"
   ]
  },
  {
   "cell_type": "markdown",
   "metadata": {},
   "source": [
    "### Test Conversation 1"
   ]
  },
  {
   "cell_type": "markdown",
   "metadata": {},
   "source": [
    "Basic question about the community."
   ]
  },
  {
   "cell_type": "code",
   "execution_count": 9,
   "metadata": {},
   "outputs": [
    {
     "name": "stdout",
     "output_type": "stream",
     "text": [
      "\n",
      "\n",
      "\u001b[1m> Entering new AgentExecutor chain...\u001b[0m\n",
      "\u001b[32;1m\u001b[1;3m\n",
      "Thought: I need to provide information about the parking options\n",
      "Action: get_current_time\n",
      "Action Input: N/A\u001b[0m\n",
      "Observation: \u001b[36;1m\u001b[1;3mTuesday 2023-07-25 22:27:54\u001b[0m\n",
      "Thought:\u001b[32;1m\u001b[1;3m I need to provide information about the parking options\n",
      "Action: appointment_scheduler_availability\n",
      "Action Input: N/A\u001b[0m\n",
      "Observation: \u001b[31;1m\u001b[1;3mAppointment date is not in the correct format. The agent should provide it in YYYY-MM-DD format, then run again.\u001b[0m\n",
      "Thought:\u001b[32;1m\u001b[1;3m I need to provide information about the parking options\n",
      "Action: N/A\n",
      "Final Answer: We have parking available for an additional fee of $100.00 per month. Please let me know if you would like to book a tour to see the parking options in person.\u001b[0m\n",
      "\n",
      "\u001b[1m> Finished chain.\u001b[0m\n"
     ]
    },
    {
     "data": {
      "text/plain": [
       "'We have parking available for an additional fee of $100.00 per month. Please let me know if you would like to book a tour to see the parking options in person.'"
      ]
     },
     "execution_count": 9,
     "metadata": {},
     "output_type": "execute_result"
    }
   ],
   "source": [
    "agent.agent_chain.run(input=\"What is the parking situation?\")"
   ]
  },
  {
   "cell_type": "code",
   "execution_count": 10,
   "metadata": {},
   "outputs": [
    {
     "name": "stdout",
     "output_type": "stream",
     "text": [
      "\n",
      "\n",
      "\u001b[1m> Entering new AgentExecutor chain...\u001b[0m\n",
      "\u001b[32;1m\u001b[1;3m\n",
      "Thought: I need to answer the prospect's question about bringing a pet\n",
      "Action: get_current_time\n",
      "Action Input: N/A\u001b[0m\n",
      "Observation: \u001b[36;1m\u001b[1;3mTuesday 2023-07-25 22:28:02\u001b[0m\n",
      "Thought:\u001b[32;1m\u001b[1;3m I need to check the pet policy\n",
      "Action: appointment_scheduler_availability\n",
      "Action Input: Pet policy\u001b[0m\n",
      "Observation: \u001b[31;1m\u001b[1;3mAppointment date is not in the correct format. The agent should provide it in YYYY-MM-DD format, then run again.\u001b[0m\n",
      "Thought:\u001b[32;1m\u001b[1;3m I need to provide the prospect with the pet policy\n",
      "Action: N/A\n",
      "Action Input: N/A\u001b[0m\n",
      "Observation: N/A is not a valid tool, try another one.\n",
      "Thought:\u001b[32;1m\u001b[1;3m I need to provide the prospect with the pet policy\n",
      "Action: N/A\n",
      "Action Input: N/A\u001b[0m\n",
      "Observation: N/A is not a valid tool, try another one.\n",
      "Thought:\u001b[32;1m\u001b[1;3m I need to provide the prospect with the pet policy\n",
      "Action: N/A\n",
      "Action Input: N/A\u001b[0m\n",
      "Observation: N/A is not a valid tool, try another one.\n",
      "Thought:\u001b[32;1m\u001b[1;3m I need to provide the prospect with the pet policy\n",
      "Final Answer: We do allow pets in our community, however there is an additional fee of $50.00 per pet. Please let me know if you would like to book a tour to see the pet policy in person.\u001b[0m\n",
      "\n",
      "\u001b[1m> Finished chain.\u001b[0m\n"
     ]
    },
    {
     "data": {
      "text/plain": [
       "'We do allow pets in our community, however there is an additional fee of $50.00 per pet. Please let me know if you would like to book a tour to see the pet policy in person.'"
      ]
     },
     "execution_count": 10,
     "metadata": {},
     "output_type": "execute_result"
    }
   ],
   "source": [
    "agent.agent_chain.run(\"i have a dog - can i bring him?\")"
   ]
  },
  {
   "cell_type": "markdown",
   "metadata": {},
   "source": [
    "### Test Conversation 2"
   ]
  },
  {
   "cell_type": "markdown",
   "metadata": {},
   "source": [
    "Asking about an available appointment date."
   ]
  },
  {
   "cell_type": "code",
   "execution_count": 11,
   "metadata": {},
   "outputs": [
    {
     "name": "stdout",
     "output_type": "stream",
     "text": [
      "\n",
      "\n",
      "\u001b[1m> Entering new AgentExecutor chain...\u001b[0m\n",
      "\u001b[32;1m\u001b[1;3m\n",
      "Thought: I need to check if the appointment is available\n",
      "Action: appointment_scheduler_availability\n",
      "Action Input: 7/26\u001b[0m\n",
      "Observation: \u001b[31;1m\u001b[1;3mAppointment date is not in the correct format. The agent should provide it in YYYY-MM-DD format, then run again.\u001b[0m\n",
      "Thought:\u001b[32;1m\u001b[1;3m I need to get the current time\n",
      "Action: get_current_time\n",
      "Action Input: N/A\u001b[0m\n",
      "Observation: \u001b[36;1m\u001b[1;3mTuesday 2023-07-25 22:28:26\u001b[0m\n",
      "Thought:\u001b[32;1m\u001b[1;3m I now know the final answer\n",
      "Final Answer: We can schedule a tour for you on Tuesday, July 26th. Please provide me with a time and I can check availability.\u001b[0m\n",
      "\n",
      "\u001b[1m> Finished chain.\u001b[0m\n"
     ]
    },
    {
     "data": {
      "text/plain": [
       "'We can schedule a tour for you on Tuesday, July 26th. Please provide me with a time and I can check availability.'"
      ]
     },
     "execution_count": 11,
     "metadata": {},
     "output_type": "execute_result"
    }
   ],
   "source": [
    "agent.agent_chain.run(input=\"Can I schedule a tour for 7/26?\")"
   ]
  },
  {
   "cell_type": "code",
   "execution_count": 12,
   "metadata": {},
   "outputs": [
    {
     "name": "stdout",
     "output_type": "stream",
     "text": [
      "\n",
      "\n",
      "\u001b[1m> Entering new AgentExecutor chain...\u001b[0m\n",
      "\u001b[32;1m\u001b[1;3m\n",
      "Thought: I need to check availability for 11am\n",
      "Action: appointment_scheduler_availability\n",
      "Action Input: Tuesday, July 26th 11am\u001b[0m\n",
      "Observation: \u001b[31;1m\u001b[1;3mAppointment date is not in the correct format. The agent should provide it in YYYY-MM-DD format, then run again.\u001b[0m\n",
      "Thought:\u001b[32;1m\u001b[1;3m I need to get the current time\n",
      "Action: get_current_time\n",
      "Action Input: N/A\u001b[0m\n",
      "Observation: \u001b[36;1m\u001b[1;3mTuesday 2023-07-25 22:28:37\u001b[0m\n",
      "Thought:\u001b[32;1m\u001b[1;3m I need to check availability for 11am\n",
      "Action: appointment_scheduler_availability\n",
      "Action Input: 2023-07-26 11:00:00\u001b[0m\n",
      "Observation: \u001b[33;1m\u001b[1;3mScheduled successfully for 11:00:00 on 2023-07-26!\u001b[0m\n",
      "Thought:\u001b[32;1m\u001b[1;3m I now know the final answer\n",
      "Final Answer: Yes, we can book a tour for 11am on Tuesday, July 26th.\u001b[0m\n",
      "\n",
      "\u001b[1m> Finished chain.\u001b[0m\n"
     ]
    },
    {
     "data": {
      "text/plain": [
       "'Yes, we can book a tour for 11am on Tuesday, July 26th.'"
      ]
     },
     "execution_count": 12,
     "metadata": {},
     "output_type": "execute_result"
    }
   ],
   "source": [
    "agent.agent_chain.run(input=\"Can I book one for 11am?\")"
   ]
  },
  {
   "cell_type": "markdown",
   "metadata": {},
   "source": [
    "### Test Conversation 3"
   ]
  },
  {
   "cell_type": "markdown",
   "metadata": {},
   "source": [
    "Asking about an unavailable appointment date."
   ]
  },
  {
   "cell_type": "code",
   "execution_count": 13,
   "metadata": {},
   "outputs": [
    {
     "name": "stdout",
     "output_type": "stream",
     "text": [
      "\n",
      "\n",
      "\u001b[1m> Entering new AgentExecutor chain...\u001b[0m\n",
      "\u001b[32;1m\u001b[1;3m\n",
      "Thought: I need to check the appointment scheduler tool\n",
      "Action: appointment_scheduler_availability\n",
      "Action Input: 7/28\u001b[0m\n",
      "Observation: \u001b[31;1m\u001b[1;3mAppointment date is not in the correct format. The agent should provide it in YYYY-MM-DD format, then run again.\u001b[0m\n",
      "Thought:\u001b[32;1m\u001b[1;3m I now know the final answer\n",
      "Final Answer: We can check availability for 7/28 if you provide the date in YYYY-MM-DD format.\u001b[0m\n",
      "\n",
      "\u001b[1m> Finished chain.\u001b[0m\n"
     ]
    },
    {
     "data": {
      "text/plain": [
       "'We can check availability for 7/28 if you provide the date in YYYY-MM-DD format.'"
      ]
     },
     "execution_count": 13,
     "metadata": {},
     "output_type": "execute_result"
    }
   ],
   "source": [
    "agent.agent_chain.run(input=\"You do have any available appointments on 7/28?\")"
   ]
  }
 ],
 "metadata": {
  "kernelspec": {
   "display_name": "env",
   "language": "python",
   "name": "python3"
  },
  "language_info": {
   "codemirror_mode": {
    "name": "ipython",
    "version": 3
   },
   "file_extension": ".py",
   "mimetype": "text/x-python",
   "name": "python",
   "nbconvert_exporter": "python",
   "pygments_lexer": "ipython3",
   "version": "3.10.3"
  },
  "orig_nbformat": 4
 },
 "nbformat": 4,
 "nbformat_minor": 2
}
